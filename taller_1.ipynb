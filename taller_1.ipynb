{
 "cells": [
  {
   "cell_type": "markdown",
   "metadata": {},
   "source": [
    "### 3. Realice un programa que lea un número entero y determine si es par o impar."
   ]
  },
  {
   "cell_type": "code",
   "execution_count": null,
   "metadata": {},
   "outputs": [],
   "source": [
    "parimpar : int\n",
    "parimpar = int(input(\"Por favor, Ingrese un numero entero: \"))\n",
    "if parimpar%2 == 0:\n",
    "    print(\"El numero ingresado \" ,parimpar, \" es par\")\n",
    "else:\n",
    "    print(\"El numero ingresado \" ,parimpar, \" es impar\")"
   ]
  },
  {
   "cell_type": "markdown",
   "metadata": {},
   "source": [
    "### 5. Realice un programa que lea tres números reales y determine si la suma de los dos primeros es mayor, menor o igual que el tercer número."
   ]
  },
  {
   "cell_type": "code",
   "execution_count": null,
   "metadata": {},
   "outputs": [],
   "source": [
    "num1 : float\n",
    "num2 : float\n",
    "num3 : float\n",
    "num1 = float(input(\"Por favor ingrese el primer numero: \"))\n",
    "num2 = float(input(\"Por favor ingrese el segundo numero: \"))\n",
    "num3 = float(input(\"Por favor ingrese el tercer numero: \"))\n",
    "suma : float\n",
    "suma = num1 + num2\n",
    "if suma > num3:\n",
    "    print(\"La suma de los dos primeros numeros da como resultado \" ,suma, \", que es mayor que el tercer numero ingrsado \" ,num3)\n",
    "elif suma < num3:\n",
    "    print(\"La suma de los dos primeros numeros da como resultado \" ,suma, \", que es menor que el tercer numero ingrsado \" ,num3)\n",
    "else:\n",
    "    print(\"La suma de los dos primeros numeros da como resultado \" ,suma, \", que es igual que el tercer numero ingresado \" ,num3)"
   ]
  },
  {
   "cell_type": "markdown",
   "metadata": {},
   "source": [
    "#### 7. Escriba un programa que pida 5 números reales y calcule las siguientes operaciones usando una función para cada una:\n",
    "- El promedio\n",
    "- La mediana\n",
    "- El promedio multiplicativo (multilplica todos y luego calcula la raíz de la cantidad de operandos)\n",
    "- Ordenar los números de forma ascendente\n",
    "- Ordenar los números de forma descendente\n",
    "- La potencia del mayor número elevado al menor número\n",
    "- La raíz cúbica del menor número\n",
    "#### (Las funciones en el archivo funciones_matematicas.py)\n"
   ]
  },
  {
   "cell_type": "code",
   "execution_count": null,
   "metadata": {},
   "outputs": [],
   "source": [
    "import funciones_matematicas\n",
    "\n",
    "lista_numeros=[]\n",
    "for i in range(5):\n",
    "        numeros = float(input(\"ingrese uno de los numeros:  \"))\n",
    "        lista_numeros.append(numeros)\n",
    "\n",
    "print(lista_numeros)\n",
    "\n",
    "promedio = funciones_matematicas.hallar_promedio(lista_numeros)\n",
    "mediana = funciones_matematicas.hallar_mediana(lista_numeros)\n",
    "prom_multi = funciones_matematicas.hallar_promedio_multiplicativo(lista_numeros)\n",
    "ascendente= funciones_matematicas.ordenar_ascendente(lista_numeros)\n",
    "descendente = funciones_matematicas.ordenar_descendente(lista_numeros)\n",
    "potencias = funciones_matematicas.potencia_extremos(lista_numeros)\n",
    "raiz = funciones_matematicas.raiz_menor(lista_numeros)\n",
    "\n",
    "print(\"el promedio de los datos ingresados es:\", str(promedio))\n",
    "print(\"la mediana de los datos ingresados es:\", str(mediana))\n",
    "print(\"el promedio multiplicativo de los datos ingresados es de:\", str(prom_multi))\n",
    "print(\"la lista ordenada de lo elementos dados de forma ascendente es:\", str(ascendente))\n",
    "print(\"la lista ordenada de los elementos dados de forma descendente:\", str(descendente))\n",
    "print(\"el resultado de la potencia con base del numero mayor de lista, elevado al mas pequeño es:\", str(potencias))\n",
    "print(\"la raiz cubica del numero mas pequeño de la lista es:\", str(raiz))"
   ]
  },
  {
   "cell_type": "markdown",
   "metadata": {},
   "source": [
    "### 9. Escriba un programa que reciba el nombre en minúsculas de un país de America y retorne la ciudad capital, si el país no pertenece al continente debe arrojar país no identificado."
   ]
  },
  {
   "cell_type": "code",
   "execution_count": 1,
   "metadata": {},
   "outputs": [
    {
     "name": "stdout",
     "output_type": "stream",
     "text": [
      "La capital de Colombia es Bogotá\n"
     ]
    }
   ],
   "source": [
    "minusc: bool = False\n",
    "def obt_capital (pais:str)->str:\n",
    "    match pais:\n",
    "        case \"estados unidos\":\n",
    "            return \"Washington DC\"\n",
    "        case \"colombia\":\n",
    "            return \"Bogotá\"\n",
    "        case \"argentina\":\n",
    "            return \"Buenos Aires\"\n",
    "        case \"canada\":\n",
    "            return \"Otawwa\"\n",
    "        case \"mexico\":\n",
    "            return \"México DF\"\n",
    "        case \"belice\":\n",
    "            return \"Belmopán\"\n",
    "        case \"costa rica\":\n",
    "            return \"San José\"\n",
    "        case \"el salvador\":\n",
    "            return \"San Salvador\"\n",
    "        case \"guatemala\":\n",
    "            return \"Ciudad de Guatemala\"\n",
    "        case \"honduras\":\n",
    "            return \"Tegucigalpa\"\n",
    "        case \"nicaragua\":\n",
    "            return \"Managua\"\n",
    "        case \"panama\":\n",
    "            return \"Panamá\"\n",
    "        case \"argentina\":\n",
    "            return \"Buenos Aires\"\n",
    "        case \"bolivia\":\n",
    "            return \"Sucre\"\n",
    "        case \"brasil\":\n",
    "            return \"Brasilia\"\n",
    "        case \"chile\":\n",
    "            return \"Santiago de Chile\"\n",
    "        case \"ecuador\":\n",
    "            return \"Quito\"\n",
    "        case \"paraguay\":\n",
    "            return \"Asunción\"\n",
    "        case \"peru\":\n",
    "            return \"Lima\"\n",
    "        case \"surinam\":\n",
    "            return \"Parabimo\"\n",
    "        case \"trinidad y tobago\":\n",
    "            return \"Puerto España\"\n",
    "        case \"uruguay\":\n",
    "            return \"Montevideo\"\n",
    "        case \"venezuela\":\n",
    "            return \"Caracas\"\n",
    "        case \"antigua y barbuda\":\n",
    "            return \"Saint John\"\n",
    "        case \"bahamas\":\n",
    "            return \"Nasáu\"\n",
    "        case \"barbados\":\n",
    "            return \"Bridgetown\"\n",
    "        case \"cuba\":\n",
    "            return \"La Habana\"\n",
    "        case \"dominica\":\n",
    "            return \"Roseau\"\n",
    "        case \"Granada\":\n",
    "            return \"Saint George\"\n",
    "        case \"haiti\":\n",
    "            return \"Puerto Principe\"\n",
    "        case \"guyana\":\n",
    "            return \"Georgetown\"\n",
    "        case \"jamaica\":\n",
    "            return \"Kingston\"\n",
    "        case \"republica dominicana\":\n",
    "            return \"Santo Domingo\"\n",
    "        case \"san cristobal y nieves\":\n",
    "            return \"Basseterre\"\n",
    "        case \"san vicente y las granadinas\":\n",
    "            return \"Kingstown\"\n",
    "        case \"santa lucia\":\n",
    "            return \"Castries\"\n",
    "        case \"puerto rico\":\n",
    "            return \"San Juan\"\n",
    "        case \"guyana francesa\":\n",
    "            return \"Cayena\"\n",
    "        case \"groelandia\":\n",
    "            return \"Nuuk\"\n",
    "        case \"alaska\":\n",
    "            return \"Juenau\"\n",
    "        case _:\n",
    "            return 0\n",
    "    \n",
    "if __name__ == \"__main__\":\n",
    "    while minusc == False:\n",
    "      pais = str(input(\"Ingrese un país de América (ingresar todo en minúscula): \"))\n",
    "\n",
    "      if pais.isupper()== True:\n",
    "          print(\"El nombre del país se debe escribir en minúsculas, intente de nuevo\")\n",
    "      else:\n",
    "          minusc = True\n",
    "    capital=obt_capital(pais)\n",
    "    if capital == 0:\n",
    "        print(\"Elija un pais válido\")\n",
    "    else:\n",
    "        print(\"La capital de \"+pais.title()+\" es \"+capital)"
   ]
  }
 ],
 "metadata": {
  "kernelspec": {
   "display_name": "Python 3",
   "language": "python",
   "name": "python3"
  },
  "language_info": {
   "codemirror_mode": {
    "name": "ipython",
    "version": 3
   },
   "file_extension": ".py",
   "mimetype": "text/x-python",
   "name": "python",
   "nbconvert_exporter": "python",
   "pygments_lexer": "ipython3",
   "version": "3.11.8"
  }
 },
 "nbformat": 4,
 "nbformat_minor": 2
}
